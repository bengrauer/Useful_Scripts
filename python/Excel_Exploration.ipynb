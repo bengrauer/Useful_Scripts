{
 "cells": [
  {
   "cell_type": "code",
   "execution_count": 1,
   "metadata": {
    "collapsed": true
   },
   "outputs": [],
   "source": [
    "# Feb 2017 - Ben Grauer \n",
    "# Created a python script that does some basic exploratory analysis / dov and exports to excel for easy viewing\n",
    "# Originally designed for the lending club data set from Kaggle - Still a work in progress"
   ]
  },
  {
   "cell_type": "code",
   "execution_count": null,
   "metadata": {
    "collapsed": true
   },
   "outputs": [],
   "source": [
    "# Next Steps\n",
    "# - for the correlation.  Put anything above .50 in an orange / light blue status.  Then anything more in deep red/blue\n",
    "# - Put a notes section for whether to keep or not. \n",
    "# - Include a possibility for a list of columns to go in to keep.\n",
    "# - Identify the continous, vs descrete\n",
    "# - If you have classifiers, then show distribution against that (if a binary classification)\n",
    "# - Add conditional formatting to correlation to see highly correlated or negative correlated\n",
    "# - add something that will indicate if there are major groupings (by percentage) - mainly want to see if groups are differnt\n",
    "# - reg expression items\n",
    "# -- something that detects years (1900 - 2000), the word year or word month (with 75% success)\n",
    "\n",
    "# INTELLIGENT NOTES\n",
    "# -- If 95% is null, cut them out\n",
    "\n",
    "# BUGS\n",
    "# - for n/a it is calculating percentage incorrectly - see mths_since_last_delinq"
   ]
  },
  {
   "cell_type": "code",
   "execution_count": 2,
   "metadata": {
    "collapsed": true
   },
   "outputs": [],
   "source": [
    "import xlsxwriter\n",
    "import pandas as pd\n",
    "from xlsxwriter.utility import xl_rowcol_to_cell"
   ]
  },
  {
   "cell_type": "code",
   "execution_count": 3,
   "metadata": {
    "collapsed": false
   },
   "outputs": [
    {
     "name": "stderr",
     "output_type": "stream",
     "text": [
      "//anaconda/lib/python3.6/site-packages/IPython/core/interactiveshell.py:2717: DtypeWarning: Columns (19,55) have mixed types. Specify dtype option on import or set low_memory=False.\n",
      "  interactivity=interactivity, compiler=compiler, result=result)\n"
     ]
    }
   ],
   "source": [
    "dfLoan = pd.read_csv('/project/data/kg_lendingclub/loan.csv')\n",
    "fileName = '/project/data/kg_lendingclub/LendingClub_DOV.xlsx'\n",
    "#dfLoan = pd.read_csv('/Project/data/kg_titantic/train.csv')\n",
    "#fileName = '/Project/data/kg_titantic/DOV_Titantic.xlsx'"
   ]
  },
  {
   "cell_type": "code",
   "execution_count": 4,
   "metadata": {
    "collapsed": true
   },
   "outputs": [],
   "source": [
    "# Function to take a workbook, sheetname, and iterate through to populate columns\n",
    "# TODO: Break out by number:  array([dtype('int64'), dtype('float64'), dtype('O')], dtype=object)\n",
    "#      dfLoan.dtypes\n",
    "def excel_add_df(inputWorkBook, inputWorkSheet, inputSheetName, inputDataFrame, \n",
    "                 inputStartRow=0,inputStartCol=0, inputUseIndex=False):\n",
    "    \n",
    "    #bold = inputWorkBook.add_format({'bold': True})\n",
    "    font14bold = inputWorkBook.add_format({'font_size':14, 'bold': True})\n",
    "    \n",
    "    # local variables\n",
    "    rowNum = inputStartRow\n",
    "    colNum = inputStartCol\n",
    "    \n",
    "    # add the input header about the sheet\n",
    "    inputWorkSheet.write(rowNum, inputStartCol, inputSheetName, font14bold)\n",
    "    rowNum = rowNum + 1\n",
    "    \n",
    "    # add an index\n",
    "    if inputUseIndex==True:\n",
    "        inputWorkSheet.write_column(inputStartRow+3, colNum, inputDataFrame.index, bold)\n",
    "        colNum = colNum + 1\n",
    "    \n",
    "    for column in inputDataFrame:\n",
    "        rowNum = inputStartRow + 2  # for the column headers. so 2 down\n",
    "        inputWorkSheet.write(rowNum, colNum, inputDataFrame[column].name, bold)\n",
    "        \n",
    "        rowNum = inputStartRow + 3\n",
    "        inputWorkSheet.write_column(rowNum, colNum, inputDataFrame[column])\n",
    "    \n",
    "        # add a column\n",
    "        colNum = colNum + 1"
   ]
  },
  {
   "cell_type": "code",
   "execution_count": 5,
   "metadata": {
    "collapsed": false
   },
   "outputs": [
    {
     "name": "stdout",
     "output_type": "stream",
     "text": [
      "C4\n",
      "AZ54\n",
      "Done!\n"
     ]
    }
   ],
   "source": [
    "# Things to do as time permits\n",
    "# - add a box around everything\n",
    "# - add numbers to each of the percentages\n",
    "# - \n",
    "\n",
    "# open the excel sheet\n",
    "#workbook = xlsxwriter.Workbook('LendingClub_DOV.xlsx', {'nan_inf_to_errors': True})\n",
    "workbook = xlsxwriter.Workbook(fileName, {'nan_inf_to_errors': True})\n",
    "\n",
    "worksheet = workbook.add_worksheet('DOV')\n",
    "\n",
    "\n",
    "# Add a bold format to use to highlight cells.\n",
    "bold = workbook.add_format({'bold': True})\n",
    "italic = workbook.add_format({'italic': True})\n",
    "underline = workbook.add_format({'underline': True})\n",
    "formatHigh = workbook.add_format({'font_color': 'red'})\n",
    "#formatHigh.set_pattern(1)\n",
    "#formatHigh.set_fg_color('rose')\n",
    "formatLow = workbook.add_format({'font_color': 'blue'})\n",
    "#formatLow.set_pattern(1)\n",
    "#formatLow.set_fg_color('ice blue')\n",
    "\n",
    "# star the column Iteration at 2\n",
    "colIteration = 1\n",
    "rowIteration = 0 # to start\n",
    "rowDataHeader = 6 # bumpt out to 5 to start, so we have 4 for summary data\n",
    "\n",
    "# set the row descriptions\n",
    "worksheet.write(rowIteration, 0, 'Col Name')\n",
    "worksheet.write(rowIteration+1, 0, 'Data Type')\n",
    "worksheet.write(rowIteration+2, 0, '# Na')\n",
    "worksheet.write(rowIteration+3, 0, 'Cont_Disc') # left to fill out?  may replce with something else\n",
    "\n",
    "\n",
    "for column in dfLoan:\n",
    "    worksheet.write(rowIteration, colIteration, dfLoan[column].name, bold) # header\n",
    "    worksheet.write(rowIteration+1, colIteration, str(dfLoan[column].dtypes)) # data type\n",
    "    \n",
    "    # TODO: # of na's \n",
    "    count_nan = len(dfLoan[column]) - dfLoan[column].count()\n",
    "    if count_nan > 0:\n",
    "        count_nan = str(round(( (len(dfLoan) - dfLoan[column].count()) / len(dfLoan[column]))*100, 0)) + '% - ' + str(count_nan)  \n",
    "        \n",
    "        \n",
    "    worksheet.write(rowIteration+2, colIteration, count_nan) # data type\n",
    "    # TODO: continous or discrete\n",
    "    # number of unique values\n",
    "    # count the number of nan\n",
    "    # add the describe function for those that work\n",
    "    # dfLoan.describe()b\n",
    "    \n",
    "    # want to detect categoirical or continuous.\n",
    "    # if < 25 % is unique then categorical\n",
    "    # if > 75 % is not unique then continouse, also check numbers\n",
    "    \n",
    "    # header for the DOV\n",
    "    worksheet.write(rowDataHeader-1, colIteration, 'DOV', underline)\n",
    "    \n",
    "    \n",
    "    if dfLoan[column].nunique() > 500:\n",
    "        worksheet.write(rowDataHeader, colIteration, '> 500 unq', italic)\n",
    "        worksheet.write_column(rowDataHeader+1, colIteration, dfLoan[column].head(500))\n",
    "        colIteration = colIteration + 1\n",
    "        \n",
    "        # here need to determine %\n",
    "        \n",
    "    else:\n",
    "\n",
    "        # grab the distribution percentage\n",
    "        disbDF = pd.DataFrame(dfLoan.groupby([column]).size() * 100 / len(dfLoan))\n",
    "        disbDF.rename(columns={0:'distprc'}, inplace=True)\n",
    "        disbDF = disbDF.sort_values(['distprc'], ascending=False)\n",
    "        \n",
    "        # write the distribution header + percentage\n",
    "        \n",
    "        # TODO: change the index name to \"DOV\" for better readability\n",
    "        worksheet.write_column(rowDataHeader, colIteration, disbDF.index) # here we are adding the index which is the DOV\n",
    "        colIteration = colIteration + 1\n",
    "        \n",
    "        worksheet.write(rowDataHeader-1, colIteration, 'DistPrc')\n",
    "        worksheet.write_column(rowDataHeader, colIteration, disbDF.loc[: ,'distprc'])\n",
    "        colIteration = colIteration + 1\n",
    "\n",
    "        \n",
    "# Summary Stats\n",
    "worksheet = workbook.add_worksheet('SummaryStats')\n",
    "excel_add_df(inputWorkBook=workbook, inputWorkSheet=worksheet, inputSheetName='SummaryStats', \n",
    "             inputDataFrame=dfLoan.describe(),inputStartRow=0,inputStartCol=0,inputUseIndex=True)\n",
    "        \n",
    "# Write out the correlation matrix work-sheet\n",
    "worksheet = workbook.add_worksheet('Correlation')\n",
    "dfCorr = dfLoan.corr()\n",
    "excel_add_df(inputWorkBook=workbook, inputWorkSheet=worksheet, inputSheetName='Correlation', \n",
    "             inputDataFrame=dfCorr,inputStartRow=0,inputStartCol=0,inputUseIndex=True)\n",
    "\n",
    "# add conditional highlighting\n",
    "# length of columns\n",
    "lenColsDfCorr = len(dfCorr.columns) + 1\n",
    "lenRowsDfCorr = len(dfCorr.index) + 4 # for header\n",
    "cellStart = xl_rowcol_to_cell(3, 2)  # C2\n",
    "cellEnd = xl_rowcol_to_cell(len(dfCorr.index) + 2, len(dfCorr.columns) )  # C2\n",
    "\n",
    "worksheet.conditional_format(cellStart + ':' + cellEnd, {'type':     'cell',\n",
    "                                        'criteria': '>=',\n",
    "                                        'value':    0.75,\n",
    "                                        'format':   formatHigh})\n",
    "\n",
    "worksheet.conditional_format('B3:K12', {'type':     'cell',\n",
    "                                        'criteria': '<',\n",
    "                                        'value':    -0.75,\n",
    "                                        'format':   formatLow})\n",
    "\n",
    "\n",
    "# Write out the co-variance matrix work-sheet\n",
    "worksheet = workbook.add_worksheet('Co-Variance')\n",
    "excel_add_df(inputWorkBook=workbook, inputWorkSheet=worksheet, inputSheetName='Co-Variance', \n",
    "             inputDataFrame=dfLoan.cov(),inputStartRow=0,inputStartCol=0,inputUseIndex=True)\n",
    "\n",
    "\n",
    "# Write out the co-variance matrix work-sheet\n",
    "worksheet = workbook.add_worksheet('100samples')\n",
    "excel_add_df(inputWorkBook=workbook, inputWorkSheet=worksheet, inputSheetName='100samples', \n",
    "             inputDataFrame=dfLoan.head(100),inputStartRow=0,inputStartCol=0,inputUseIndex=True)\n",
    "\n",
    "\n",
    "\n",
    "#writer.save()\n",
    "workbook.close()\n",
    "\n",
    "print('Done!')"
   ]
  }
 ],
 "metadata": {
  "kernelspec": {
   "display_name": "Python 3",
   "language": "python",
   "name": "python3"
  },
  "language_info": {
   "codemirror_mode": {
    "name": "ipython",
    "version": 3
   },
   "file_extension": ".py",
   "mimetype": "text/x-python",
   "name": "python",
   "nbconvert_exporter": "python",
   "pygments_lexer": "ipython3",
   "version": "3.6.0"
  }
 },
 "nbformat": 4,
 "nbformat_minor": 2
}
